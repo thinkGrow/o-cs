{
 "cells": [
  {
   "cell_type": "markdown",
   "id": "1a6799a5",
   "metadata": {},
   "source": [
    "Today we are going to look at functions"
   ]
  },
  {
   "cell_type": "markdown",
   "id": "b50f23bb",
   "metadata": {},
   "source": [
    "Parameters are the names listed in the function definition, while arguments are the values passed to the function."
   ]
  },
  {
   "cell_type": "code",
   "execution_count": null,
   "id": "f08a6a0f",
   "metadata": {},
   "outputs": [
    {
     "name": "stdout",
     "output_type": "stream",
     "text": [
      "14\n",
      "26\n"
     ]
    }
   ],
   "source": [
    "import random\n",
    "\n",
    "# here x and y are parameters\n",
    "def generate(x,y):\n",
    "    simDie = random.randint(x,y)\n",
    "    print(simDie)\n",
    "\n",
    "# here 10 and 20 are arguments\n",
    "generate(10,20)\n",
    "\n",
    "generate(20,30)"
   ]
  },
  {
   "cell_type": "markdown",
   "id": "280c41cd",
   "metadata": {},
   "source": [
    "Return in functions\n"
   ]
  },
  {
   "cell_type": "code",
   "execution_count": 6,
   "id": "5ded1917",
   "metadata": {},
   "outputs": [
    {
     "name": "stdout",
     "output_type": "stream",
     "text": [
      "3\n"
     ]
    }
   ],
   "source": [
    "def add(x,y):\n",
    "    z = x+y \n",
    "    return z\n",
    "\n",
    "sum = add(1,2)\n",
    "\n",
    "print(sum)"
   ]
  },
  {
   "cell_type": "code",
   "execution_count": null,
   "id": "da9f2bc3",
   "metadata": {},
   "outputs": [],
   "source": [
    "def greet(name):\n",
    "    return \"Hello, \" + name\n",
    "\n",
    "print(greet(\"Alice\"))\n",
    "\n"
   ]
  }
 ],
 "metadata": {
  "kernelspec": {
   "display_name": "Python 3",
   "language": "python",
   "name": "python3"
  },
  "language_info": {
   "codemirror_mode": {
    "name": "ipython",
    "version": 3
   },
   "file_extension": ".py",
   "mimetype": "text/x-python",
   "name": "python",
   "nbconvert_exporter": "python",
   "pygments_lexer": "ipython3",
   "version": "3.13.1"
  }
 },
 "nbformat": 4,
 "nbformat_minor": 5
}
